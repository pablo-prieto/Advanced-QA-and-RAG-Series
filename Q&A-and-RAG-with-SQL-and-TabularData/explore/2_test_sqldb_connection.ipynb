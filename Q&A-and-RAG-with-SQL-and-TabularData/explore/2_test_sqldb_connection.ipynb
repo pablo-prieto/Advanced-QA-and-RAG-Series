{
 "cells": [
  {
   "cell_type": "code",
   "execution_count": 2,
   "metadata": {},
   "outputs": [],
   "source": [
    "from pyprojroot import here\n",
    "db_path = str(here(\"data\")) + \"/csv_xlsx_sqldb.db\""
   ]
  },
  {
   "cell_type": "code",
   "execution_count": 3,
   "metadata": {},
   "outputs": [
    {
     "name": "stdout",
     "output_type": "stream",
     "text": [
      "sqlite\n",
      "['actions_rows', 'static_actions_rows']\n"
     ]
    },
    {
     "data": {
      "text/plain": [
       "\"[(133, '2021-02-28 22:40:32+00', 1, 'Hydro Blockchain Migration.', '2021-01-28 05:00:00+00', 'https://projecthydro.medium.com/hydro-smart-contract-redeployment-57bf0e1f3fb4', '9c2aa1b1-4009-451e-a8e9-472dbba214c6', None, 'The Old ERC20 contract address is 0xebbdf302c940c6bfd49c6b165f457fdb324649bc; upgraded HYDRO contract addresses are 0x946112efaB61C3636CBD52DE2E1392D7A75A6f01 (ERC20) and 0xf3DBB49999B25c9D6641a9423C7ad84168D00071 (BEP20)'), (134, '2019-04-18 05:59:26+00', 1, 'Binance Coin Ethereum - Binance Chain Mainnet Swap', '2018-12-04 08:51:00+00', 'https://www.binance.com/en/support/announcement/360027114471', 'f25bd7b6-148f-461a-8d78-6b5dbd7f7258', 'https://twitter.com/binance/status/1069876962955452416', 'We are excited to announce that the Binance Chain mainnet has been launched. Public access and BNB mainnet swap will begin on 2019/04/23 2:00 AM (UTC).'), (135, '2020-11-09 11:22:00+00', 1, 'Stratis STRAX Blockchain Migration.', '2020-09-25 00:00:00+00', 'https://www.stratisplatform.com/2020/09/25/introducing-strax/', '15a5aac6-e5e8-47c4-bd4f-6d0de21608c2', 'https://www.stratisplatform.com/2020/09/25/introducing-strax/', 'The creation of the STRAX Blockchain provides a vanilla environment for the STRAX Foundation to begin rapid growth, utilizing the blockchain technology platform that has been developed over the past three years.'), (136, '2021-04-20 00:00:00+00', 1, 'SNM BEP20 Blockchain Migration', None, 'https://sonm.medium.com/sonm-snm-token-upgrade-and-redenomination-plan-b2e2b825a755', 'b205b773-5beb-4c85-a98b-9fd7dba0ec47', None, 'SONM will conduct a token upgrade plan from April 20 on, aiming to establish a hybrid ERC-20+BEP-20 token metrics.'), (137, '2021-07-28 00:00:00+00', 1, 'EXRD ERC20 Blockchain Migration to Radix Mainnet.', '2021-06-02 00:00:00+00', 'https://www.radixdlt.com/post/radix-olympia-mainnet-is-coming', '41a070a0-5126-45e8-b692-c300d1b41bc4', None, 'After years of research and development, the first version of the Radix Public Network, Olympia, is launching on July 28th, 2021.'), (138, '2021-03-31 00:00:00+00', 1, 'Porta Network Mainnet Blockchain Migration.', None, 'https://porta-network.notion.site/porta-network/3b926dc9402f40488301a148c21fc5aa?v=7e446dab170a4c2896f8e42252a1116f', '1121debb-90cc-41e3-94ed-43302628edd5', None, 'Porta Network Blockchain Migration planned for Q1 2022.'), (139, '2021-09-18 12:57:00+00', 1, 'ZB.COM Bytom (BTM) Blockchain Migration.', None, 'https://www.zb.com/help/notices/proclamation/1599', 'f85255dc-30a3-4810-b303-583185dab1b7', None, 'The Bytom 2.0 mainnet upgrade is complete. All BTM tokens of our users have been automatically mapped to the Bytom 2.0 mainnet token.'), (140, '2021-08-19 20:24:17+00', 1, 'Bibox Bytom (BTM) Blockchain Migration.', None, 'https://support.bibox.jp/hc/en-us/articles/4405196500633-Bibox-Announcement-on-Supporting-BTM-Project-Upgrade', 'e14ae6f3-e560-4ed8-a6d1-911088c7066e', None, 'Bibox will soon support the upgrade of Bytom (BTM) project.'), (141, '2021-08-19 20:24:17+00', 1, 'Gate.io Bytom (BTM) Blockchain Migration.', None, 'https://www.gate.io/article/21951', 'ede53346-59c6-4b2e-a7a0-f6ceb63e8369', None, 'According to the Bytom team, Bytom mainnet 2.0 will go live soon and the old BTM tokens will be swapped for the new BTM tokens at the ratio of 1:1 based on snapshot at block height 709,660.'), (142, '2021-08-20 00:00:00+00', 1, 'Bittrex Bytom (BTM) Blockchain Migration.', None, 'https://medium.com/bytomofficial/bytom-2-0-q-a-all-you-need-to-know-about-bytom-2-0-b93e95dad900', '3d11302e-4aa1-48ae-adc2-b15599ef35d3', None, 'We’re taking Bytom to the next level by launching Bytom 2.0.')]\""
      ]
     },
     "execution_count": 3,
     "metadata": {},
     "output_type": "execute_result"
    }
   ],
   "source": [
    "from langchain_community.utilities import SQLDatabase\n",
    "db = SQLDatabase.from_uri(f\"sqlite:///{db_path}\")\n",
    "print(db.dialect)\n",
    "print(db.get_usable_table_names())\n",
    "db.run(\"SELECT * FROM actions_rows LIMIT 10;\")"
   ]
  },
  {
   "cell_type": "markdown",
   "metadata": {},
   "source": [
    "**Inspect the sql database**"
   ]
  },
  {
   "cell_type": "code",
   "execution_count": 4,
   "metadata": {},
   "outputs": [
    {
     "name": "stdout",
     "output_type": "stream",
     "text": [
      "Tables: ['actions_rows', 'static_actions_rows']\n",
      "Information for table: actions_rows\n",
      "Schema: ['main']\n",
      "Column: action_id Type: BIGINT\n",
      "Column: effective_time Type: TEXT\n",
      "Column: static_event_id Type: BIGINT\n",
      "Column: description Type: TEXT\n",
      "Column: announce_time Type: TEXT\n",
      "Column: url Type: TEXT\n",
      "Column: event_id Type: TEXT\n",
      "Column: announce_url Type: TEXT\n",
      "Column: comment Type: TEXT\n",
      "Primary Key Constraint: {'name': None, 'constrained_columns': []}\n",
      "Foreign Keys: []\n",
      "Information for table: static_actions_rows\n",
      "Schema: ['main']\n",
      "Column: static_action_id Type: BIGINT\n",
      "Column: name Type: TEXT\n",
      "Column: acronym Type: TEXT\n",
      "Column: description Type: TEXT\n",
      "Primary Key Constraint: {'name': None, 'constrained_columns': []}\n",
      "Foreign Keys: []\n"
     ]
    }
   ],
   "source": [
    "from sqlalchemy import create_engine, inspect\n",
    "\n",
    "# Create an engine that connects to the test.db SQLite database\n",
    "engine = create_engine(f\"sqlite:///{db_path}\")\n",
    "\n",
    "# Connect to the database\n",
    "connection = engine.connect()\n",
    "\n",
    "# Create an inspector object\n",
    "inspector = inspect(engine)\n",
    "\n",
    "# Retrieve the names of all the tables in the database\n",
    "table_names = inspector.get_table_names()\n",
    "print(\"Tables:\", table_names)\n",
    "\n",
    "# Loop over each table to get detailed information like schema, columns, etc.\n",
    "for table_name in table_names:\n",
    "    print(f\"Information for table: {table_name}\")\n",
    "    \n",
    "    # Get the schema of the table (for SQLite, schema is often None)\n",
    "    print(f\"Schema: {inspector.get_schema_names()}\")\n",
    "    \n",
    "    # Get the columns and their attributes for each table\n",
    "    columns = inspector.get_columns(table_name)\n",
    "    for column in columns:\n",
    "        print(f\"Column: {column['name']} Type: {column['type']}\")\n",
    "    \n",
    "    # Additionally, you can use get_pk_constraint and get_foreign_keys \n",
    "    # methods to retrieve information about primary and foreign keys respectively\n",
    "    pk_constraint = inspector.get_pk_constraint(table_name)\n",
    "    print(f\"Primary Key Constraint: {pk_constraint}\")\n",
    "\n",
    "    foreign_keys = inspector.get_foreign_keys(table_name)\n",
    "    print(f\"Foreign Keys: {foreign_keys}\")\n",
    "\n",
    "# Do not forget to close the connection when done\n",
    "connection.close()"
   ]
  },
  {
   "cell_type": "code",
   "execution_count": 6,
   "metadata": {},
   "outputs": [
    {
     "data": {
      "text/plain": [
       "<sqlalchemy.engine.reflection.Inspector at 0x1cbbc0646d0>"
      ]
     },
     "execution_count": 6,
     "metadata": {},
     "output_type": "execute_result"
    }
   ],
   "source": []
  }
 ],
 "metadata": {
  "kernelspec": {
   "display_name": "sql-raggpt-env",
   "language": "python",
   "name": "python3"
  },
  "language_info": {
   "codemirror_mode": {
    "name": "ipython",
    "version": 3
   },
   "file_extension": ".py",
   "mimetype": "text/x-python",
   "name": "python",
   "nbconvert_exporter": "python",
   "pygments_lexer": "ipython3",
   "version": "3.12.3"
  }
 },
 "nbformat": 4,
 "nbformat_minor": 2
}
